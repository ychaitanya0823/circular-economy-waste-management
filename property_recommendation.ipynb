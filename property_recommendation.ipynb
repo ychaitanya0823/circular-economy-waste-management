{
  "nbformat": 4,
  "nbformat_minor": 0,
  "metadata": {
    "colab": {
      "provenance": [],
      "authorship_tag": "ABX9TyOzR3Hy70h/eKVfllf+8h2I",
      "include_colab_link": true
    },
    "kernelspec": {
      "name": "python3",
      "display_name": "Python 3"
    },
    "language_info": {
      "name": "python"
    }
  },
  "cells": [
    {
      "cell_type": "markdown",
      "metadata": {
        "id": "view-in-github",
        "colab_type": "text"
      },
      "source": [
        "<a href=\"https://colab.research.google.com/github/ychaitanya0823/circular-economy-waste-management/blob/master/property_recommendation.ipynb\" target=\"_parent\"><img src=\"https://colab.research.google.com/assets/colab-badge.svg\" alt=\"Open In Colab\"/></a>"
      ]
    },
    {
      "cell_type": "code",
      "execution_count": 1,
      "metadata": {
        "colab": {
          "base_uri": "https://localhost:8080/"
        },
        "id": "sjGDnaTjGB4e",
        "outputId": "6e06d170-877e-4168-f8a1-ef95f5eb2686"
      },
      "outputs": [
        {
          "output_type": "stream",
          "name": "stdout",
          "text": [
            "Requirement already satisfied: pandas in /usr/local/lib/python3.11/dist-packages (2.2.2)\n",
            "Requirement already satisfied: numpy in /usr/local/lib/python3.11/dist-packages (2.0.2)\n",
            "Requirement already satisfied: scikit-learn in /usr/local/lib/python3.11/dist-packages (1.6.1)\n",
            "Requirement already satisfied: tensorflow in /usr/local/lib/python3.11/dist-packages (2.18.0)\n",
            "Requirement already satisfied: requests in /usr/local/lib/python3.11/dist-packages (2.32.3)\n",
            "Requirement already satisfied: python-dateutil>=2.8.2 in /usr/local/lib/python3.11/dist-packages (from pandas) (2.8.2)\n",
            "Requirement already satisfied: pytz>=2020.1 in /usr/local/lib/python3.11/dist-packages (from pandas) (2025.1)\n",
            "Requirement already satisfied: tzdata>=2022.7 in /usr/local/lib/python3.11/dist-packages (from pandas) (2025.1)\n",
            "Requirement already satisfied: scipy>=1.6.0 in /usr/local/lib/python3.11/dist-packages (from scikit-learn) (1.14.1)\n",
            "Requirement already satisfied: joblib>=1.2.0 in /usr/local/lib/python3.11/dist-packages (from scikit-learn) (1.4.2)\n",
            "Requirement already satisfied: threadpoolctl>=3.1.0 in /usr/local/lib/python3.11/dist-packages (from scikit-learn) (3.6.0)\n",
            "Requirement already satisfied: absl-py>=1.0.0 in /usr/local/lib/python3.11/dist-packages (from tensorflow) (1.4.0)\n",
            "Requirement already satisfied: astunparse>=1.6.0 in /usr/local/lib/python3.11/dist-packages (from tensorflow) (1.6.3)\n",
            "Requirement already satisfied: flatbuffers>=24.3.25 in /usr/local/lib/python3.11/dist-packages (from tensorflow) (25.2.10)\n",
            "Requirement already satisfied: gast!=0.5.0,!=0.5.1,!=0.5.2,>=0.2.1 in /usr/local/lib/python3.11/dist-packages (from tensorflow) (0.6.0)\n",
            "Requirement already satisfied: google-pasta>=0.1.1 in /usr/local/lib/python3.11/dist-packages (from tensorflow) (0.2.0)\n",
            "Requirement already satisfied: libclang>=13.0.0 in /usr/local/lib/python3.11/dist-packages (from tensorflow) (18.1.1)\n",
            "Requirement already satisfied: opt-einsum>=2.3.2 in /usr/local/lib/python3.11/dist-packages (from tensorflow) (3.4.0)\n",
            "Requirement already satisfied: packaging in /usr/local/lib/python3.11/dist-packages (from tensorflow) (24.2)\n",
            "Requirement already satisfied: protobuf!=4.21.0,!=4.21.1,!=4.21.2,!=4.21.3,!=4.21.4,!=4.21.5,<6.0.0dev,>=3.20.3 in /usr/local/lib/python3.11/dist-packages (from tensorflow) (4.25.6)\n",
            "Requirement already satisfied: setuptools in /usr/local/lib/python3.11/dist-packages (from tensorflow) (75.1.0)\n",
            "Requirement already satisfied: six>=1.12.0 in /usr/local/lib/python3.11/dist-packages (from tensorflow) (1.17.0)\n",
            "Requirement already satisfied: termcolor>=1.1.0 in /usr/local/lib/python3.11/dist-packages (from tensorflow) (2.5.0)\n",
            "Requirement already satisfied: typing-extensions>=3.6.6 in /usr/local/lib/python3.11/dist-packages (from tensorflow) (4.12.2)\n",
            "Requirement already satisfied: wrapt>=1.11.0 in /usr/local/lib/python3.11/dist-packages (from tensorflow) (1.17.2)\n",
            "Requirement already satisfied: grpcio<2.0,>=1.24.3 in /usr/local/lib/python3.11/dist-packages (from tensorflow) (1.71.0)\n",
            "Requirement already satisfied: tensorboard<2.19,>=2.18 in /usr/local/lib/python3.11/dist-packages (from tensorflow) (2.18.0)\n",
            "Requirement already satisfied: keras>=3.5.0 in /usr/local/lib/python3.11/dist-packages (from tensorflow) (3.8.0)\n",
            "Requirement already satisfied: h5py>=3.11.0 in /usr/local/lib/python3.11/dist-packages (from tensorflow) (3.12.1)\n",
            "Requirement already satisfied: ml-dtypes<0.5.0,>=0.4.0 in /usr/local/lib/python3.11/dist-packages (from tensorflow) (0.4.1)\n",
            "Requirement already satisfied: tensorflow-io-gcs-filesystem>=0.23.1 in /usr/local/lib/python3.11/dist-packages (from tensorflow) (0.37.1)\n",
            "Requirement already satisfied: charset-normalizer<4,>=2 in /usr/local/lib/python3.11/dist-packages (from requests) (3.4.1)\n",
            "Requirement already satisfied: idna<4,>=2.5 in /usr/local/lib/python3.11/dist-packages (from requests) (3.10)\n",
            "Requirement already satisfied: urllib3<3,>=1.21.1 in /usr/local/lib/python3.11/dist-packages (from requests) (2.3.0)\n",
            "Requirement already satisfied: certifi>=2017.4.17 in /usr/local/lib/python3.11/dist-packages (from requests) (2025.1.31)\n",
            "Requirement already satisfied: wheel<1.0,>=0.23.0 in /usr/local/lib/python3.11/dist-packages (from astunparse>=1.6.0->tensorflow) (0.45.1)\n",
            "Requirement already satisfied: rich in /usr/local/lib/python3.11/dist-packages (from keras>=3.5.0->tensorflow) (13.9.4)\n",
            "Requirement already satisfied: namex in /usr/local/lib/python3.11/dist-packages (from keras>=3.5.0->tensorflow) (0.0.8)\n",
            "Requirement already satisfied: optree in /usr/local/lib/python3.11/dist-packages (from keras>=3.5.0->tensorflow) (0.14.1)\n",
            "Requirement already satisfied: markdown>=2.6.8 in /usr/local/lib/python3.11/dist-packages (from tensorboard<2.19,>=2.18->tensorflow) (3.7)\n",
            "Requirement already satisfied: tensorboard-data-server<0.8.0,>=0.7.0 in /usr/local/lib/python3.11/dist-packages (from tensorboard<2.19,>=2.18->tensorflow) (0.7.2)\n",
            "Requirement already satisfied: werkzeug>=1.0.1 in /usr/local/lib/python3.11/dist-packages (from tensorboard<2.19,>=2.18->tensorflow) (3.1.3)\n",
            "Requirement already satisfied: MarkupSafe>=2.1.1 in /usr/local/lib/python3.11/dist-packages (from werkzeug>=1.0.1->tensorboard<2.19,>=2.18->tensorflow) (3.0.2)\n",
            "Requirement already satisfied: markdown-it-py>=2.2.0 in /usr/local/lib/python3.11/dist-packages (from rich->keras>=3.5.0->tensorflow) (3.0.0)\n",
            "Requirement already satisfied: pygments<3.0.0,>=2.13.0 in /usr/local/lib/python3.11/dist-packages (from rich->keras>=3.5.0->tensorflow) (2.18.0)\n",
            "Requirement already satisfied: mdurl~=0.1 in /usr/local/lib/python3.11/dist-packages (from markdown-it-py>=2.2.0->rich->keras>=3.5.0->tensorflow) (0.1.2)\n"
          ]
        }
      ],
      "source": [
        "!pip install pandas numpy scikit-learn tensorflow requests\n"
      ]
    },
    {
      "cell_type": "code",
      "source": [],
      "metadata": {
        "colab": {
          "base_uri": "https://localhost:8080/"
        },
        "id": "clo3RN94QGvx",
        "outputId": "ae601a52-86d1-43d8-b41a-018e9d04a941"
      },
      "execution_count": 25,
      "outputs": [
        {
          "output_type": "stream",
          "name": "stdout",
          "text": [
            "<class 'pandas.core.frame.DataFrame'>\n",
            "RangeIndex: 1554 entries, 0 to 1553\n",
            "Data columns (total 3 columns):\n",
            " #   Column       Non-Null Count  Dtype  \n",
            "---  ------       --------------  -----  \n",
            " 0   user_id      1554 non-null   float64\n",
            " 1   rating       1554 non-null   float64\n",
            " 2   property_id  1554 non-null   float64\n",
            "dtypes: float64(3)\n",
            "memory usage: 36.6 KB\n",
            "None\n",
            "<class 'pandas.core.frame.DataFrame'>\n",
            "RangeIndex: 875 entries, 0 to 874\n",
            "Data columns (total 8 columns):\n",
            " #   Column                         Non-Null Count  Dtype  \n",
            "---  ------                         --------------  -----  \n",
            " 0   Actual price                   875 non-null    float64\n",
            " 1   Estimated Price (SVR)          875 non-null    float64\n",
            " 2   ABS Error SVR                  875 non-null    float64\n",
            " 3   Absolute Percentage Error SVR  875 non-null    object \n",
            " 4   Estimated price (GBM)          875 non-null    float64\n",
            " 5   ABS error GBM                  875 non-null    float64\n",
            " 6   MAPE GBM                       875 non-null    object \n",
            " 7   property_id                    875 non-null    float64\n",
            "dtypes: float64(6), object(2)\n",
            "memory usage: 54.8+ KB\n",
            "None\n",
            "<class 'pandas.core.frame.DataFrame'>\n",
            "RangeIndex: 1451 entries, 0 to 1450\n",
            "Data columns (total 2 columns):\n",
            " #   Column        Non-Null Count  Dtype  \n",
            "---  ------        --------------  -----  \n",
            " 0   Actual price  1451 non-null   float64\n",
            " 1   property_id   1451 non-null   float64\n",
            "dtypes: float64(2)\n",
            "memory usage: 22.8 KB\n",
            "None\n",
            "1427 [75053. 93786. 10752. ... 34291. 71148. 62256.]\n",
            "Index(['Actual price', 'Estimated Price (SVR)', 'ABS Error SVR',\n",
            "       'Absolute Percentage Error SVR', 'Estimated price (GBM)',\n",
            "       'ABS error GBM', 'MAPE GBM', 'property_id'],\n",
            "      dtype='object')\n"
          ]
        }
      ]
    },
    {
      "cell_type": "code",
      "source": [
        "# Ensure 'property_id' exists in both datasets\n",
        "if 'property_id' not in user_df.columns:\n",
        "    raise KeyError(\"Ensure 'property_id' exists in user_df\")\n",
        "\n",
        "# Merge user and property data\n",
        "merged_df = pd.merge(user_df, property_df, on='property_id', how='inner')\n",
        "print(merged_df.head())\n"
      ],
      "metadata": {
        "colab": {
          "base_uri": "https://localhost:8080/"
        },
        "id": "TCq1qM0DQRX9",
        "outputId": "40807a89-437d-469d-e33e-aeecc763981a"
      },
      "execution_count": 26,
      "outputs": [
        {
          "output_type": "stream",
          "name": "stdout",
          "text": [
            "    user_id    rating  property_id  Actual price  Estimated Price (SVR)  \\\n",
            "0  214329.0   75053.0       6640.0        6640.0            18844.76180   \n",
            "1   29732.0   93786.0       6883.0        6883.0            18407.46039   \n",
            "2   75053.0   10752.0       8302.0        8302.0            21712.34239   \n",
            "3   93786.0  120900.0       9000.0        9000.0            20840.25890   \n",
            "4   10752.0    9739.0      10036.0       10036.0            23896.10158   \n",
            "\n",
            "   ABS Error SVR Absolute Percentage Error SVR  Estimated price (GBM)  \\\n",
            "0    12204.76180                          184%            13293.06331   \n",
            "1    11524.46039                          167%            18045.49950   \n",
            "2    13410.34239                          162%            25524.45109   \n",
            "3    11840.25890                          132%            30951.56948   \n",
            "4    13860.10158                          138%            29597.51074   \n",
            "\n",
            "   ABS error GBM MAPE GBM  \n",
            "0    6653.063312     100%  \n",
            "1   11162.499500     162%  \n",
            "2   17222.451090     207%  \n",
            "3   21951.569480     244%  \n",
            "4   19561.510740     195%  \n"
          ]
        }
      ]
    },
    {
      "cell_type": "code",
      "source": [
        "# Create interaction matrix\n",
        "interaction_matrix = pd.pivot_table(merged_df, values='rating', index='user_id', columns='property_id', fill_value=0)\n",
        "\n",
        "print(interaction_matrix.head())\n"
      ],
      "metadata": {
        "colab": {
          "base_uri": "https://localhost:8080/"
        },
        "id": "_3v0pi3jQU6k",
        "outputId": "9fef6344-8aaa-4d42-f004-d1692b8ac829"
      },
      "execution_count": 27,
      "outputs": [
        {
          "output_type": "stream",
          "name": "stdout",
          "text": [
            "property_id  6640.0    6883.0    8302.0    9000.0    10036.0   10200.0   \\\n",
            "user_id                                                                   \n",
            "6883.0            0.0       0.0       0.0       0.0       0.0       0.0   \n",
            "8072.0            0.0       0.0       0.0       0.0       0.0       0.0   \n",
            "8302.0            0.0       0.0       0.0       0.0       0.0       0.0   \n",
            "9000.0            0.0       0.0       0.0       0.0       0.0       0.0   \n",
            "9232.0            0.0       0.0       0.0       0.0       0.0       0.0   \n",
            "\n",
            "property_id  10866.0   11025.0   11050.0   11517.0   ...  306000.0  310045.0  \\\n",
            "user_id                                              ...                       \n",
            "6883.0            0.0       0.0       0.0       0.0  ...       0.0       0.0   \n",
            "8072.0            0.0       0.0       0.0       0.0  ...       0.0       0.0   \n",
            "8302.0            0.0       0.0       0.0       0.0  ...       0.0       0.0   \n",
            "9000.0            0.0       0.0       0.0       0.0  ...       0.0       0.0   \n",
            "9232.0            0.0       0.0       0.0       0.0  ...       0.0       0.0   \n",
            "\n",
            "property_id  312751.0  327916.0  372860.0  378000.0  389570.0  455888.0  \\\n",
            "user_id                                                                   \n",
            "6883.0            0.0       0.0       0.0       0.0       0.0       0.0   \n",
            "8072.0            0.0       0.0       0.0       0.0       0.0       0.0   \n",
            "8302.0            0.0       0.0       0.0       0.0       0.0       0.0   \n",
            "9000.0            0.0       0.0       0.0       0.0       0.0       0.0   \n",
            "9232.0            0.0       0.0       0.0       0.0       0.0       0.0   \n",
            "\n",
            "property_id  504000.0  646800.0  \n",
            "user_id                          \n",
            "6883.0            0.0       0.0  \n",
            "8072.0            0.0       0.0  \n",
            "8302.0            0.0       0.0  \n",
            "9000.0            0.0       0.0  \n",
            "9232.0            0.0       0.0  \n",
            "\n",
            "[5 rows x 840 columns]\n"
          ]
        }
      ]
    },
    {
      "cell_type": "code",
      "source": [
        "!pip install scikit-surprise\n"
      ],
      "metadata": {
        "colab": {
          "base_uri": "https://localhost:8080/"
        },
        "id": "1-bdP1ITQji7",
        "outputId": "1aa1af4c-4f98-46f7-ed50-aa11eee5b183"
      },
      "execution_count": 28,
      "outputs": [
        {
          "output_type": "stream",
          "name": "stdout",
          "text": [
            "Collecting scikit-surprise\n",
            "  Downloading scikit_surprise-1.1.4.tar.gz (154 kB)\n",
            "\u001b[?25l     \u001b[90m━━━━━━━━━━━━━━━━━━━━━━━━━━━━━━━━━━━━━━━━\u001b[0m \u001b[32m0.0/154.4 kB\u001b[0m \u001b[31m?\u001b[0m eta \u001b[36m-:--:--\u001b[0m\r\u001b[2K     \u001b[91m━━━━━━━━━━━━━━━━━━━━━━━━━━━━━━━━━━━━━━━\u001b[0m\u001b[91m╸\u001b[0m \u001b[32m153.6/154.4 kB\u001b[0m \u001b[31m5.3 MB/s\u001b[0m eta \u001b[36m0:00:01\u001b[0m\r\u001b[2K     \u001b[90m━━━━━━━━━━━━━━━━━━━━━━━━━━━━━━━━━━━━━━━━\u001b[0m \u001b[32m154.4/154.4 kB\u001b[0m \u001b[31m3.4 MB/s\u001b[0m eta \u001b[36m0:00:00\u001b[0m\n",
            "\u001b[?25h  Installing build dependencies ... \u001b[?25l\u001b[?25hdone\n",
            "  Getting requirements to build wheel ... \u001b[?25l\u001b[?25hdone\n",
            "  Preparing metadata (pyproject.toml) ... \u001b[?25l\u001b[?25hdone\n",
            "Requirement already satisfied: joblib>=1.2.0 in /usr/local/lib/python3.11/dist-packages (from scikit-surprise) (1.4.2)\n",
            "Requirement already satisfied: numpy>=1.19.5 in /usr/local/lib/python3.11/dist-packages (from scikit-surprise) (2.0.2)\n",
            "Requirement already satisfied: scipy>=1.6.0 in /usr/local/lib/python3.11/dist-packages (from scikit-surprise) (1.14.1)\n",
            "Building wheels for collected packages: scikit-surprise\n",
            "  Building wheel for scikit-surprise (pyproject.toml) ... \u001b[?25l\u001b[?25hdone\n",
            "  Created wheel for scikit-surprise: filename=scikit_surprise-1.1.4-cp311-cp311-linux_x86_64.whl size=2505170 sha256=5fde3c579646b14d4c66a5d908a5a80e110e3681d15193fd2d5d19c48e02f534\n",
            "  Stored in directory: /root/.cache/pip/wheels/2a/8f/6e/7e2899163e2d85d8266daab4aa1cdabec7a6c56f83c015b5af\n",
            "Successfully built scikit-surprise\n",
            "Installing collected packages: scikit-surprise\n",
            "Successfully installed scikit-surprise-1.1.4\n"
          ]
        }
      ]
    },
    {
      "cell_type": "code",
      "source": [
        "!pip install numpy==1.26.4\n"
      ],
      "metadata": {
        "colab": {
          "base_uri": "https://localhost:8080/"
        },
        "id": "sXbQaOdnQmiU",
        "outputId": "954907c6-d2ae-4205-8e25-773f9fd289a0"
      },
      "execution_count": 30,
      "outputs": [
        {
          "output_type": "stream",
          "name": "stdout",
          "text": [
            "Collecting numpy==1.26.4\n",
            "  Downloading numpy-1.26.4-cp311-cp311-manylinux_2_17_x86_64.manylinux2014_x86_64.whl.metadata (61 kB)\n",
            "\u001b[?25l     \u001b[90m━━━━━━━━━━━━━━━━━━━━━━━━━━━━━━━━━━━━━━━━\u001b[0m \u001b[32m0.0/61.0 kB\u001b[0m \u001b[31m?\u001b[0m eta \u001b[36m-:--:--\u001b[0m\r\u001b[2K     \u001b[90m━━━━━━━━━━━━━━━━━━━━━━━━━━━━━━━━━━━━━━━━\u001b[0m \u001b[32m61.0/61.0 kB\u001b[0m \u001b[31m1.9 MB/s\u001b[0m eta \u001b[36m0:00:00\u001b[0m\n",
            "\u001b[?25hDownloading numpy-1.26.4-cp311-cp311-manylinux_2_17_x86_64.manylinux2014_x86_64.whl (18.3 MB)\n",
            "\u001b[2K   \u001b[90m━━━━━━━━━━━━━━━━━━━━━━━━━━━━━━━━━━━━━━━━\u001b[0m \u001b[32m18.3/18.3 MB\u001b[0m \u001b[31m38.2 MB/s\u001b[0m eta \u001b[36m0:00:00\u001b[0m\n",
            "\u001b[?25hInstalling collected packages: numpy\n",
            "  Attempting uninstall: numpy\n",
            "    Found existing installation: numpy 2.0.2\n",
            "    Uninstalling numpy-2.0.2:\n",
            "      Successfully uninstalled numpy-2.0.2\n",
            "Successfully installed numpy-1.26.4\n"
          ]
        }
      ]
    },
    {
      "cell_type": "code",
      "source": [
        "import os\n",
        "os._exit(00)\n"
      ],
      "metadata": {
        "id": "rHRdnONyQp3c"
      },
      "execution_count": null,
      "outputs": []
    },
    {
      "cell_type": "code",
      "source": [
        "!pip install scikit-surprise\n"
      ],
      "metadata": {
        "colab": {
          "base_uri": "https://localhost:8080/"
        },
        "id": "s1g8E_aORDp7",
        "outputId": "aa0aad7c-e6b0-4719-d1ff-f6a5a0e1ef01"
      },
      "execution_count": 2,
      "outputs": [
        {
          "output_type": "stream",
          "name": "stdout",
          "text": [
            "Requirement already satisfied: scikit-surprise in /usr/local/lib/python3.11/dist-packages (1.1.4)\n",
            "Requirement already satisfied: joblib>=1.2.0 in /usr/local/lib/python3.11/dist-packages (from scikit-surprise) (1.4.2)\n",
            "Requirement already satisfied: numpy>=1.19.5 in /usr/local/lib/python3.11/dist-packages (from scikit-surprise) (1.26.4)\n",
            "Requirement already satisfied: scipy>=1.6.0 in /usr/local/lib/python3.11/dist-packages (from scikit-surprise) (1.14.1)\n"
          ]
        }
      ]
    },
    {
      "cell_type": "code",
      "source": [
        "import pandas as pd\n",
        "\n",
        "# List the files to confirm they are uploaded\n",
        "import os\n",
        "print(os.listdir())\n",
        "\n",
        "# Load datasets (adjust filenames if needed)\n",
        "user_df = pd.read_csv('user_data.csv')\n",
        "property_df = pd.read_csv('property_data.csv')\n",
        "market_df = pd.read_csv('market_data.csv')\n",
        "\n",
        "# Inspect the datasets\n",
        "print(user_df.head())\n",
        "print(property_df.head())\n",
        "print(market_df.head())\n"
      ],
      "metadata": {
        "colab": {
          "base_uri": "https://localhost:8080/"
        },
        "id": "qemLe0lqTW4_",
        "outputId": "109e978c-a6fc-416e-b329-0876d26ec7cd"
      },
      "execution_count": 4,
      "outputs": [
        {
          "output_type": "stream",
          "name": "stdout",
          "text": [
            "['.config', 'property_data.csv', 'user_data (2).csv', '.ipynb_checkpoints', 'user_data.csv', 'user_data (1).csv', 'market_data.csv', 'sample_data']\n",
            "    user_id    rating  property_id\n",
            "0  214329.0   75053.0       6640.0\n",
            "1   29732.0   93786.0       6883.0\n",
            "2   75053.0   10752.0       8302.0\n",
            "3   93786.0  120900.0       9000.0\n",
            "4   10752.0    9739.0      10036.0\n",
            "   Actual price  Estimated Price (SVR)  ABS Error SVR  \\\n",
            "0        6640.0            18844.76180    12204.76180   \n",
            "1        6883.0            18407.46039    11524.46039   \n",
            "2        8302.0            21712.34239    13410.34239   \n",
            "3        9000.0            20840.25890    11840.25890   \n",
            "4       10036.0            23896.10158    13860.10158   \n",
            "\n",
            "  Absolute Percentage Error SVR  Estimated price (GBM)  ABS error GBM  \\\n",
            "0                          184%            13293.06331    6653.063312   \n",
            "1                          167%            18045.49950   11162.499500   \n",
            "2                          162%            25524.45109   17222.451090   \n",
            "3                          132%            30951.56948   21951.569480   \n",
            "4                          138%            29597.51074   19561.510740   \n",
            "\n",
            "  MAPE GBM  property_id  \n",
            "0     100%       6640.0  \n",
            "1     162%       6883.0  \n",
            "2     207%       8302.0  \n",
            "3     244%       9000.0  \n",
            "4     195%      10036.0  \n",
            "   Actual price  property_id\n",
            "0  232363.71800       6640.0\n",
            "1   39098.30556       6883.0\n",
            "2   83599.22898       8302.0\n",
            "3  106553.01580       9000.0\n",
            "4   27102.18994      10036.0\n"
          ]
        }
      ]
    },
    {
      "cell_type": "code",
      "source": [
        "print(user_df.columns)\n",
        "print(property_df.columns)\n",
        "print(market_df.columns)\n"
      ],
      "metadata": {
        "colab": {
          "base_uri": "https://localhost:8080/"
        },
        "id": "dRmTRXUITz0L",
        "outputId": "dd783c1e-a0c3-4f75-9a5a-850affb81f25"
      },
      "execution_count": 5,
      "outputs": [
        {
          "output_type": "stream",
          "name": "stdout",
          "text": [
            "Index(['user_id', 'rating', 'property_id'], dtype='object')\n",
            "Index(['Actual price', 'Estimated Price (SVR)', 'ABS Error SVR',\n",
            "       'Absolute Percentage Error SVR', 'Estimated price (GBM)',\n",
            "       'ABS error GBM', 'MAPE GBM', 'property_id'],\n",
            "      dtype='object')\n",
            "Index(['Actual price', 'property_id'], dtype='object')\n"
          ]
        }
      ]
    },
    {
      "cell_type": "code",
      "source": [
        "# Merge user and property data on 'property_id'\n",
        "merged_df = pd.merge(user_df, property_df, on='property_id')\n",
        "\n",
        "# Optionally, merge with market data (if needed)\n",
        "merged_df = pd.merge(merged_df, market_df, on='Actual price', how='left')\n",
        "\n",
        "print(merged_df.head())\n"
      ],
      "metadata": {
        "colab": {
          "base_uri": "https://localhost:8080/"
        },
        "id": "r8clobp_T_s6",
        "outputId": "527fa88b-3d70-49d5-9597-9068b274e50d"
      },
      "execution_count": 7,
      "outputs": [
        {
          "output_type": "stream",
          "name": "stdout",
          "text": [
            "    user_id    rating  property_id_x  Actual price  Estimated Price (SVR)  \\\n",
            "0  214329.0   75053.0         6640.0        6640.0            18844.76180   \n",
            "1   29732.0   93786.0         6883.0        6883.0            18407.46039   \n",
            "2   75053.0   10752.0         8302.0        8302.0            21712.34239   \n",
            "3   93786.0  120900.0         9000.0        9000.0            20840.25890   \n",
            "4   10752.0    9739.0        10036.0       10036.0            23896.10158   \n",
            "\n",
            "   ABS Error SVR Absolute Percentage Error SVR  Estimated price (GBM)  \\\n",
            "0    12204.76180                          184%            13293.06331   \n",
            "1    11524.46039                          167%            18045.49950   \n",
            "2    13410.34239                          162%            25524.45109   \n",
            "3    11840.25890                          132%            30951.56948   \n",
            "4    13860.10158                          138%            29597.51074   \n",
            "\n",
            "   ABS error GBM MAPE GBM  property_id_y  \n",
            "0    6653.063312     100%            NaN  \n",
            "1   11162.499500     162%            NaN  \n",
            "2   17222.451090     207%            NaN  \n",
            "3   21951.569480     244%            NaN  \n",
            "4   19561.510740     195%            NaN  \n"
          ]
        }
      ]
    },
    {
      "cell_type": "code",
      "source": [
        "print(merged_df.columns)\n"
      ],
      "metadata": {
        "colab": {
          "base_uri": "https://localhost:8080/"
        },
        "id": "ADL5F6n7UCCc",
        "outputId": "6114339f-2ded-4988-85a8-92c1f657f8b2"
      },
      "execution_count": 8,
      "outputs": [
        {
          "output_type": "stream",
          "name": "stdout",
          "text": [
            "Index(['user_id', 'rating', 'property_id_x', 'Actual price',\n",
            "       'Estimated Price (SVR)', 'ABS Error SVR',\n",
            "       'Absolute Percentage Error SVR', 'Estimated price (GBM)',\n",
            "       'ABS error GBM', 'MAPE GBM', 'property_id_y'],\n",
            "      dtype='object')\n"
          ]
        }
      ]
    },
    {
      "cell_type": "code",
      "source": [
        "!pip install scikit-surprise\n"
      ],
      "metadata": {
        "colab": {
          "base_uri": "https://localhost:8080/"
        },
        "id": "Lvs9oKWCUbgn",
        "outputId": "8c852647-8600-4af3-980f-22a33e3f5e0e"
      },
      "execution_count": 9,
      "outputs": [
        {
          "output_type": "stream",
          "name": "stdout",
          "text": [
            "Requirement already satisfied: scikit-surprise in /usr/local/lib/python3.11/dist-packages (1.1.4)\n",
            "Requirement already satisfied: joblib>=1.2.0 in /usr/local/lib/python3.11/dist-packages (from scikit-surprise) (1.4.2)\n",
            "Requirement already satisfied: numpy>=1.19.5 in /usr/local/lib/python3.11/dist-packages (from scikit-surprise) (1.26.4)\n",
            "Requirement already satisfied: scipy>=1.6.0 in /usr/local/lib/python3.11/dist-packages (from scikit-surprise) (1.14.1)\n"
          ]
        }
      ]
    },
    {
      "cell_type": "code",
      "source": [
        "from surprise import SVD, Dataset, Reader\n",
        "from surprise.model_selection import cross_validate\n",
        "\n",
        "# Define the rating scale (adjust if needed)\n",
        "reader = Reader(rating_scale=(merged_df['rating'].min(), merged_df['rating'].max()))\n",
        "\n",
        "# Load dataset\n",
        "data = Dataset.load_from_df(merged_df[['user_id', 'property_id_x', 'rating']], reader)\n",
        "\n",
        "# Train an SVD model\n",
        "model = SVD()\n",
        "\n",
        "# Perform cross-validation\n",
        "cross_validate(model, data, cv=5, verbose=True)\n"
      ],
      "metadata": {
        "colab": {
          "base_uri": "https://localhost:8080/"
        },
        "id": "k8K_P_67UfuY",
        "outputId": "839b0fde-7a5e-4ac2-e959-04a73ea9ecf7"
      },
      "execution_count": 11,
      "outputs": [
        {
          "output_type": "stream",
          "name": "stdout",
          "text": [
            "Evaluating RMSE, MAE of algorithm SVD on 5 split(s).\n",
            "\n",
            "                  Fold 1  Fold 2  Fold 3  Fold 4  Fold 5  Mean    Std     \n",
            "RMSE (testset)    568932.3778570165.0647565342.3333561225.9815577575.1866568648.18885442.2570\n",
            "MAE (testset)     508667.0698514247.7064501536.5143501854.9636521989.2674509659.10437758.2653\n",
            "Fit time          0.03    0.03    0.02    0.03    0.03    0.03    0.00    \n",
            "Test time         0.00    0.00    0.00    0.00    0.00    0.00    0.00    \n"
          ]
        },
        {
          "output_type": "execute_result",
          "data": {
            "text/plain": [
              "{'test_rmse': array([568932.37778987, 570165.06472098, 565342.33328064, 561225.98151142,\n",
              "        577575.18657274]),\n",
              " 'test_mae': array([508667.06975225, 514247.7063615 , 501536.514268  , 501854.9635511 ,\n",
              "        521989.26742522]),\n",
              " 'fit_time': (0.02785348892211914,\n",
              "  0.02778935432434082,\n",
              "  0.024373292922973633,\n",
              "  0.027790307998657227,\n",
              "  0.0258486270904541),\n",
              " 'test_time': (0.002486705780029297,\n",
              "  0.0017476081848144531,\n",
              "  0.0018298625946044922,\n",
              "  0.0018007755279541016,\n",
              "  0.0015621185302734375)}"
            ]
          },
          "metadata": {},
          "execution_count": 11
        }
      ]
    },
    {
      "cell_type": "code",
      "source": [
        "# Train the model on the full dataset\n",
        "trainset = data.build_full_trainset()\n",
        "model.fit(trainset)\n",
        "\n",
        "# Predict a rating (user_id, property_id)\n",
        "prediction = model.predict(uid=1, iid=101)\n",
        "print(prediction)\n"
      ],
      "metadata": {
        "colab": {
          "base_uri": "https://localhost:8080/"
        },
        "id": "yjBd4eGAUj6B",
        "outputId": "bf83f475-fd6d-4af6-ef84-a1d1ad85b72d"
      },
      "execution_count": 12,
      "outputs": [
        {
          "output_type": "stream",
          "name": "stdout",
          "text": [
            "user: 1          item: 101        r_ui = None   est = 81568.73   {'was_impossible': False}\n"
          ]
        }
      ]
    },
    {
      "cell_type": "code",
      "source": [
        "from surprise.model_selection import cross_validate\n",
        "\n",
        "# Evaluate using cross-validation\n",
        "cross_validate(model, data, cv=5, verbose=True)\n"
      ],
      "metadata": {
        "colab": {
          "base_uri": "https://localhost:8080/"
        },
        "id": "cUCFnulmU6dW",
        "outputId": "8217674e-5328-4533-a72c-3733a8373bc9"
      },
      "execution_count": 15,
      "outputs": [
        {
          "output_type": "stream",
          "name": "stdout",
          "text": [
            "Evaluating RMSE, MAE of algorithm SVD on 5 split(s).\n",
            "\n",
            "                  Fold 1  Fold 2  Fold 3  Fold 4  Fold 5  Mean    Std     \n",
            "RMSE (testset)    574151.8360574736.8895566080.4757576776.9559571668.4957572682.93053681.2759\n",
            "MAE (testset)     517930.8178520770.5491503178.3061526292.2124513662.2141516366.81997766.6483\n",
            "Fit time          0.16    0.22    0.04    0.04    0.04    0.10    0.08    \n",
            "Test time         0.01    0.01    0.00    0.00    0.00    0.01    0.01    \n"
          ]
        },
        {
          "output_type": "execute_result",
          "data": {
            "text/plain": [
              "{'test_rmse': array([574151.83595189, 574736.8895319 , 566080.47566243, 576776.95586239,\n",
              "        571668.49569019]),\n",
              " 'test_mae': array([517930.81783767, 520770.54911079, 503178.3060761 , 526292.21239887,\n",
              "        513662.21411588]),\n",
              " 'fit_time': (0.16491365432739258,\n",
              "  0.21520733833312988,\n",
              "  0.03746485710144043,\n",
              "  0.03887534141540527,\n",
              "  0.03802680969238281),\n",
              " 'test_time': (0.011934757232666016,\n",
              "  0.013783454895019531,\n",
              "  0.0024051666259765625,\n",
              "  0.0023992061614990234,\n",
              "  0.0026061534881591797)}"
            ]
          },
          "metadata": {},
          "execution_count": 15
        }
      ]
    },
    {
      "cell_type": "code",
      "source": [
        "# Predict a rating for a specific user and property\n",
        "user_id = 1         # Replace with a valid user_id from merged_df\n",
        "property_id = 101   # Replace with a valid property_id from merged_df\n",
        "\n",
        "prediction = model.predict(uid=user_id, iid=property_id)\n",
        "print(prediction)\n"
      ],
      "metadata": {
        "colab": {
          "base_uri": "https://localhost:8080/"
        },
        "id": "_--XVNrQU_HI",
        "outputId": "91ec1d63-aa5b-4ce2-f11b-c76fde20f023"
      },
      "execution_count": 16,
      "outputs": [
        {
          "output_type": "stream",
          "name": "stdout",
          "text": [
            "user: 1          item: 101        r_ui = None   est = 81687.77   {'was_impossible': False}\n"
          ]
        }
      ]
    },
    {
      "cell_type": "code",
      "source": [
        "# Get unique users and properties\n",
        "unique_users = merged_df['user_id'].unique()\n",
        "unique_properties = merged_df['property_id_x'].unique()\n",
        "\n",
        "# Function to recommend top-N properties for a user\n",
        "def recommend_properties(user_id, model, properties, n=5):\n",
        "    predictions = [model.predict(user_id, prop_id) for prop_id in properties]\n",
        "    predictions.sort(key=lambda x: x.est, reverse=True)\n",
        "    return [(pred.iid, pred.est) for pred in predictions[:n]]\n",
        "\n",
        "# Example: Recommend top 5 properties for a user\n",
        "user_id = 1\n",
        "recommended = recommend_properties(user_id, model, unique_properties, n=5)\n",
        "print(f\"Top 5 property recommendations for user {user_id}: {recommended}\")\n"
      ],
      "metadata": {
        "colab": {
          "base_uri": "https://localhost:8080/"
        },
        "id": "eYi84rtlVbZw",
        "outputId": "a2ed39dd-1a01-4f19-bc3f-d19bfa900663"
      },
      "execution_count": 18,
      "outputs": [
        {
          "output_type": "stream",
          "name": "stdout",
          "text": [
            "Top 5 property recommendations for user 1: [(6640.0, 719697.0), (6883.0, 719697.0), (8302.0, 719697.0), (9000.0, 719697.0), (10036.0, 719697.0)]\n"
          ]
        }
      ]
    },
    {
      "cell_type": "code",
      "source": [
        "import pickle\n",
        "\n",
        "# Save the trained model to a file\n",
        "with open('property_recommender.pkl', 'wb') as f:\n",
        "    pickle.dump(model, f)\n"
      ],
      "metadata": {
        "id": "imjaKEuKVdXl"
      },
      "execution_count": 19,
      "outputs": []
    },
    {
      "cell_type": "code",
      "source": [
        "# Load the saved model\n",
        "with open('property_recommender.pkl', 'rb') as f:\n",
        "    loaded_model = pickle.load(f)\n",
        "\n",
        "# Use the loaded model for predictions\n",
        "prediction = loaded_model.predict(1, 101)\n",
        "print(prediction)\n"
      ],
      "metadata": {
        "colab": {
          "base_uri": "https://localhost:8080/"
        },
        "id": "rHW95hVWVjgN",
        "outputId": "3d79cd42-4d83-4f40-929e-f21511e9f0b7"
      },
      "execution_count": 20,
      "outputs": [
        {
          "output_type": "stream",
          "name": "stdout",
          "text": [
            "user: 1          item: 101        r_ui = None   est = 81687.77   {'was_impossible': False}\n"
          ]
        }
      ]
    },
    {
      "cell_type": "code",
      "source": [
        "from surprise import KNNBasic\n",
        "\n",
        "knn_model = KNNBasic()\n",
        "cross_validate(knn_model, data, cv=5, verbose=True)\n"
      ],
      "metadata": {
        "colab": {
          "base_uri": "https://localhost:8080/"
        },
        "id": "iwJvukX4VmlG",
        "outputId": "4ffe44b4-fa84-4b72-d3a4-f76f673133d3"
      },
      "execution_count": 21,
      "outputs": [
        {
          "output_type": "stream",
          "name": "stdout",
          "text": [
            "Computing the msd similarity matrix...\n",
            "Done computing similarity matrix.\n",
            "Computing the msd similarity matrix...\n",
            "Done computing similarity matrix.\n",
            "Computing the msd similarity matrix...\n",
            "Done computing similarity matrix.\n",
            "Computing the msd similarity matrix...\n",
            "Done computing similarity matrix.\n",
            "Computing the msd similarity matrix...\n",
            "Done computing similarity matrix.\n",
            "Evaluating RMSE, MAE of algorithm KNNBasic on 5 split(s).\n",
            "\n",
            "                  Fold 1  Fold 2  Fold 3  Fold 4  Fold 5  Mean    Std     \n",
            "RMSE (testset)    55439.182666913.949667770.628256921.582160473.968161503.86215047.3699\n",
            "MAE (testset)     35283.355240366.523836871.069234677.810434580.055636355.76282166.5855\n",
            "Fit time          0.15    0.08    0.06    0.05    0.11    0.09    0.04    \n",
            "Test time         0.00    0.00    0.01    0.01    0.01    0.01    0.00    \n"
          ]
        },
        {
          "output_type": "execute_result",
          "data": {
            "text/plain": [
              "{'test_rmse': array([55439.18259194, 66913.94963912, 67770.6282362 , 56921.5820968 ,\n",
              "        60473.96809031]),\n",
              " 'test_mae': array([35283.35520396, 40366.52377112, 36871.06921602, 34677.81036874,\n",
              "        34580.05560939]),\n",
              " 'fit_time': (0.14669537544250488,\n",
              "  0.07592916488647461,\n",
              "  0.06287670135498047,\n",
              "  0.04989171028137207,\n",
              "  0.11179375648498535),\n",
              " 'test_time': (0.004158735275268555,\n",
              "  0.0039331912994384766,\n",
              "  0.0074481964111328125,\n",
              "  0.005952119827270508,\n",
              "  0.0062067508697509766)}"
            ]
          },
          "metadata": {},
          "execution_count": 21
        }
      ]
    },
    {
      "cell_type": "code",
      "source": [
        "import csv\n",
        "\n",
        "user_id = 1\n",
        "recommended = recommend_properties(user_id, model, unique_properties, n=10)\n",
        "\n",
        "# Save recommendations to CSV\n",
        "with open('recommendations.csv', 'w', newline='') as f:\n",
        "    writer = csv.writer(f)\n",
        "    writer.writerow(['user_id', 'property_id', 'predicted_rating'])\n",
        "    for prop_id, rating in recommended:\n",
        "        writer.writerow([user_id, prop_id, rating])\n"
      ],
      "metadata": {
        "id": "XwN4Dr9wVp6V"
      },
      "execution_count": 22,
      "outputs": []
    },
    {
      "cell_type": "code",
      "source": [
        "def get_top_n_recommendations(model, merged_df, user_id, n=5):\n",
        "    # Get all unique property_ids\n",
        "    all_properties = merged_df['property_id_x'].unique()\n",
        "\n",
        "    # Get properties the user has already interacted with\n",
        "    interacted_properties = merged_df[merged_df['user_id'] == user_id]['property_id_x'].unique()\n",
        "\n",
        "    # Get properties the user has NOT interacted with\n",
        "    properties_to_predict = [prop for prop in all_properties if prop not in interacted_properties]\n",
        "\n",
        "    # Predict ratings for all non-interacted properties\n",
        "    predictions = [model.predict(user_id, prop) for prop in properties_to_predict]\n",
        "\n",
        "    # Sort predictions by estimated rating (highest first)\n",
        "    predictions.sort(key=lambda x: x.est, reverse=True)\n",
        "\n",
        "    # Return top-N recommendations\n",
        "    return [(pred.iid, pred.est) for pred in predictions[:n]]\n",
        "\n",
        "# Example: Get top 5 property recommendations for user 1\n",
        "user_id = 1\n",
        "top_recommendations = get_top_n_recommendations(model, merged_df, user_id, n=5)\n",
        "print(f\"Top 5 recommendations for user {user_id}: {top_recommendations}\")\n"
      ],
      "metadata": {
        "colab": {
          "base_uri": "https://localhost:8080/"
        },
        "id": "w5SqeeSlVtkv",
        "outputId": "10479cd6-becd-4d6e-e7d1-5826df23c9e8"
      },
      "execution_count": 26,
      "outputs": [
        {
          "output_type": "stream",
          "name": "stdout",
          "text": [
            "Top 5 recommendations for user 1: [(6640.0, 719697.0), (6883.0, 719697.0), (8302.0, 719697.0), (9000.0, 719697.0), (10036.0, 719697.0)]\n"
          ]
        }
      ]
    },
    {
      "cell_type": "code",
      "source": [
        "from surprise.model_selection import cross_validate\n",
        "\n",
        "# Evaluate the model using 5-fold cross-validation\n",
        "cross_validate(model, data, cv=5, verbose=True)\n"
      ],
      "metadata": {
        "colab": {
          "base_uri": "https://localhost:8080/"
        },
        "id": "vVVyiT2VV0xT",
        "outputId": "c33573cd-eea8-4bed-9e65-9633ff5406b8"
      },
      "execution_count": 27,
      "outputs": [
        {
          "output_type": "stream",
          "name": "stdout",
          "text": [
            "Evaluating RMSE, MAE of algorithm SVD on 5 split(s).\n",
            "\n",
            "                  Fold 1  Fold 2  Fold 3  Fold 4  Fold 5  Mean    Std     \n",
            "RMSE (testset)    576185.7816552756.3169549390.1985568273.3703556234.9164560568.116810079.9711\n",
            "MAE (testset)     521734.7986484190.6561480996.9679509380.3914486722.6301496605.088816063.0336\n",
            "Fit time          0.03    0.02    0.03    0.02    0.02    0.02    0.00    \n",
            "Test time         0.00    0.00    0.00    0.00    0.00    0.00    0.00    \n"
          ]
        },
        {
          "output_type": "execute_result",
          "data": {
            "text/plain": [
              "{'test_rmse': array([576185.78161456, 552756.31692824, 549390.19854284, 568273.37032396,\n",
              "        556234.91644443]),\n",
              " 'test_mae': array([521734.79862604, 484190.65610722, 480996.96792612, 509380.39142714,\n",
              "        486722.63005378]),\n",
              " 'fit_time': (0.028675079345703125,\n",
              "  0.023596525192260742,\n",
              "  0.02512216567993164,\n",
              "  0.023722171783447266,\n",
              "  0.023136615753173828),\n",
              " 'test_time': (0.0030639171600341797,\n",
              "  0.0015883445739746094,\n",
              "  0.0016889572143554688,\n",
              "  0.0018520355224609375,\n",
              "  0.0016498565673828125)}"
            ]
          },
          "metadata": {},
          "execution_count": 27
        }
      ]
    },
    {
      "cell_type": "code",
      "source": [],
      "metadata": {
        "id": "NZiQVrrwWiPq"
      },
      "execution_count": null,
      "outputs": []
    }
  ]
}